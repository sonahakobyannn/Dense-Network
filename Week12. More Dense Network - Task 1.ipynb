{
 "cells": [
  {
   "cell_type": "code",
   "execution_count": 1,
   "id": "54488ec1",
   "metadata": {},
   "outputs": [],
   "source": [
    "import numpy as np\n",
    "\n",
    "class DenseLayer:\n",
    "    def __init__(self, input_size, output_size, activation = None):\n",
    "        self.weights = np.random.randn(input_size, output_size) * 0.01\n",
    "        self.biases = np.zeros(output_size)\n",
    "        self.activation_ = activation\n",
    "    \n",
    "    def activation(self, x, derivative = False):\n",
    "        if self.activation_ == 'relu':\n",
    "            if derivative:\n",
    "                return 1 * (x > 0)\n",
    "            return np.maximum(0, x)\n",
    "        \n",
    "        elif self.activation_ =='sigmoid':\n",
    "            if derivative:\n",
    "                return self.activation(x) * (1 - self.activation(x))\n",
    "            return 1 / (1 + np.exp(- x))\n",
    "        return x\n",
    "        \n",
    "    def forward(self, inputs):\n",
    "        self.inputs = inputs\n",
    "        self.output = np.dot(inputs, self.weights) + self.biases\n",
    "        \n",
    "        return self.activation(self.output)\n",
    "    \n",
    "    def backward(self, grad_output, learning_rate):\n",
    "        if self.activation_:\n",
    "            grad_output = self.activation(self.output, derivative = True) * grad_output\n",
    "        grad_weights = np.dot(self.inputs.T, grad_output)\n",
    "        grad_biases = np.sum(grad_output, axis=0)\n",
    "        \n",
    "        grad_input = np.dot(grad_output, self.weights.T)\n",
    "        self.weights -= learning_rate * grad_weights\n",
    "        self.biases -= learning_rate * grad_biases\n",
    "        \n",
    "        return grad_input\n",
    "    \n",
    "class DenseNetwork:\n",
    "    def __init__(self):\n",
    "        self.layers = []\n",
    "    \n",
    "    def add_layer(self, layer):\n",
    "        self.layers.append(layer)\n",
    "    \n",
    "    def forward(self, inputs):\n",
    "        for layer in self.layers:\n",
    "            inputs = layer.forward(inputs)\n",
    "        return inputs\n",
    "    \n",
    "    def backward(self, grad_output, learning_rate):\n",
    "        for layer in reversed(self.layers):\n",
    "            grad_output = layer.backward(grad_output, learning_rate)\n",
    "            \n",
    "    def fit(self, x_train, y_train, epochs, learning_rate):\n",
    "        for epoch in range(epochs):\n",
    "            y_pred = self.forward(x_train)\n",
    "#             loss = np.mean((y_pred - y_train) ** 2)\n",
    "#             print(f'epoch {epoch}:{loss}')\n",
    "            grad_output = 2 * (y_pred - y_train) / len(x_train)\n",
    "            self.backward(grad_output, learning_rate)\n",
    "            \n",
    "    def predict(self, x):\n",
    "        return self.forward(x)"
   ]
  },
  {
   "cell_type": "code",
   "execution_count": 2,
   "id": "f8dce36b",
   "metadata": {
    "scrolled": true
   },
   "outputs": [
    {
     "name": "stdout",
     "output_type": "stream",
     "text": [
      "Mean Squared Error (sklearn LinearRegression): 0.3139436176757503\n",
      "Mean Squared Error (DenseNetwork implemented from scratch): 178.57665027993505\n"
     ]
    }
   ],
   "source": [
    "from sklearn.datasets import make_regression\n",
    "from sklearn.linear_model import LinearRegression\n",
    "from sklearn.model_selection import train_test_split\n",
    "from sklearn.metrics import mean_squared_error\n",
    "from sklearn.preprocessing import StandardScaler\n",
    "import numpy as np\n",
    "\n",
    "X, y = make_regression(n_samples=100, n_features=10, noise=0.5)\n",
    "\n",
    "X_train, X_test, y_train, y_test = train_test_split(X, y, test_size=0.2, random_state=42)\n",
    "y_train = y_train.reshape(-1,1)\n",
    "y_test = y_test.reshape(-1,1)\n",
    "\n",
    "scaler = StandardScaler()\n",
    "X_train_scaled = scaler.fit_transform(X_train)\n",
    "X_test_scaled = scaler.transform(X_test)\n",
    "\n",
    "lr_model = LinearRegression()\n",
    "lr_model.fit(X_train_scaled, y_train)\n",
    "y_pred_lr = lr_model.predict(X_test_scaled)\n",
    "\n",
    "dense_net = DenseNetwork()\n",
    "dense_net.add_layer(DenseLayer(10, 10, activation = 'relu'))\n",
    "dense_net.add_layer(DenseLayer(10, 1))\n",
    "\n",
    "dense_net.fit(X_train_scaled, y_train, 1000, 0.001)\n",
    "y_pred_dense = dense_net.predict(X_test_scaled)\n",
    "\n",
    "print(\"Mean Squared Error (sklearn LinearRegression):\", mean_squared_error(y_test, y_pred_lr))\n",
    "print(\"Mean Squared Error (DenseNetwork implemented from scratch):\", mean_squared_error(y_test, y_pred_dense))"
   ]
  },
  {
   "cell_type": "code",
   "execution_count": null,
   "id": "f96c8abd",
   "metadata": {},
   "outputs": [],
   "source": []
  }
 ],
 "metadata": {
  "kernelspec": {
   "display_name": "Python 3",
   "language": "python",
   "name": "python3"
  },
  "language_info": {
   "codemirror_mode": {
    "name": "ipython",
    "version": 3
   },
   "file_extension": ".py",
   "mimetype": "text/x-python",
   "name": "python",
   "nbconvert_exporter": "python",
   "pygments_lexer": "ipython3",
   "version": "3.8.8"
  }
 },
 "nbformat": 4,
 "nbformat_minor": 5
}
